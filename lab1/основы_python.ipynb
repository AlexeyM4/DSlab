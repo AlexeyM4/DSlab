{
 "cells": [
  {
   "cell_type": "markdown",
   "metadata": {
    "id": "M-DGa20PaHnu"
   },
   "source": [
    "# Задача 1\n",
    "Написать функцию на вход которой подается строка, состоящая из латинских букв.\n",
    "Функция должна вернуть количество гласных букв (a, e, i, o, u) в этой строке. Написать тесты для кода"
   ]
  },
  {
   "cell_type": "code",
   "execution_count": 20,
   "metadata": {
    "id": "XvX8X_JJ6PCb"
   },
   "outputs": [],
   "source": [
    "def count_vowel_letters(x: str) -> int:\n",
    "    x = x.lower()\n",
    "    vowel_letters = ('a', 'e', 'i', 'o', 'u')\n",
    "    return sum(x.count(letter) for letter in vowel_letters)\n",
    "\n",
    "assert count_vowel_letters('rhtrtwhxb') == 0, 'Ошибка в строке без гласных'\n",
    "assert count_vowel_letters('Hello world') == 3, 'Ошибка в подсчёте гласных'"
   ]
  },
  {
   "cell_type": "markdown",
   "metadata": {
    "id": "t2ClV_Y0bbr6"
   },
   "source": [
    "# Задача 2\n",
    "Написать функцию на вход, которой подается строка. Функция должна вернуть true, если\n",
    "каждый символ в строке встречается только 1 раз, иначе должна вернуть false. Написать тесты для кода"
   ]
  },
  {
   "cell_type": "code",
   "execution_count": 24,
   "metadata": {
    "id": "FppbECao6VIz"
   },
   "outputs": [],
   "source": [
    "def get_result(x: str) -> bool:\n",
    "    return len(set(x)) == len(x)\n",
    "\n",
    "assert get_result('Hello world') == False, 'Ожидалось False'\n",
    "assert get_result('Python') == True, 'Ожидалось True'"
   ]
  },
  {
   "cell_type": "markdown",
   "metadata": {
    "id": "udRiIK1cdt6E"
   },
   "source": [
    "# Задача 3\n",
    "Написать функцию, которая принимает положительное число и возвращает количество\n",
    "бит равных 1 в этом числе. Написать тесты для кода"
   ]
  },
  {
   "cell_type": "code",
   "execution_count": 29,
   "metadata": {
    "id": "6tkfDJRz6dp_"
   },
   "outputs": [],
   "source": [
    "def get_bit(num: int) -> int:\n",
    "    return f'{num: b}'.count('1')\n",
    "\n",
    "assert get_bit(10) == 2\n",
    "assert get_bit(0) == 0"
   ]
  },
  {
   "cell_type": "markdown",
   "metadata": {
    "id": "26dDUz-Ae17N"
   },
   "source": [
    "# Задача 4\n",
    "Написать функцию, которая принимает положительное число. Функция должна вернуть то,\n",
    "сколько раз необходимо перемножать цифры числа или результат перемножения, чтобы\n",
    "получилось число состоящее из одной цифры.\n",
    "Например, для входного числа:\n",
    "· 39 функция должна вернуть 3, так как 3*9=27 => 2*7=14 => 1*4=4\n",
    "· 4 функция должна вернуть 0, так как число уже состоит из одной цифры\n",
    "· 999 функция должна вернуть 4, так как 9*9*9=729 => 7*2*9=126 => 1*2*6=12 =>\n",
    "1*2=2. Написать тесты для кода"
   ]
  },
  {
   "cell_type": "code",
   "execution_count": 32,
   "metadata": {
    "id": "BH1A_Mgi6i4G"
   },
   "outputs": [],
   "source": [
    "from functools import reduce\n",
    "\n",
    "\n",
    "def magic(n: int) -> int:\n",
    "    res = 0\n",
    "    while n > 9:\n",
    "        n = reduce(lambda x, y: x * y, map(int, str(n))) \n",
    "        res += 1\n",
    "    return res\n",
    "\n",
    "assert magic(1000) == 1\n",
    "assert magic(999) == 4\n",
    "assert magic(39) == 3\n",
    "assert magic(4) == 0\n",
    "assert magic(0) == 0"
   ]
  },
  {
   "cell_type": "markdown",
   "metadata": {
    "id": "0nS-kIa8g8vd"
   },
   "source": [
    "# Задача 5\n",
    "Написать функцию, которая принимает два целочисленных вектора одинаковой длины и\n",
    "возвращает среднеквадратическое отклонение двух векторов. Написать тесты для кода"
   ]
  },
  {
   "cell_type": "code",
   "execution_count": 131,
   "metadata": {
    "id": "8iphx4LM6xbx"
   },
   "outputs": [],
   "source": [
    "def mse(pred, true):\n",
    "    assert len(pred) == len(true), 'Векторы должны быть одной длинны'\n",
    "    n = len(pred)\n",
    "    return sum((pred[i] - true[i]) ** 2 for i in range(n)) / n\n",
    "\n",
    "assert mse([1, 2, 3, 4, 5], [1, 3, 3, 5, 5]) == 0.4\n",
    "assert mse([1, 2, 3, 4, 5], [1, 2, 3, 4, 5]) == 0"
   ]
  },
  {
   "cell_type": "markdown",
   "metadata": {
    "id": "vpIPKL439zkw"
   },
   "source": [
    "# Задача 6\n",
    "Написать функцию, принимающая целое положительное число. Функция должна вернуть\n",
    "строку вида “(n1**p1)(n2**p2)…(nk**pk)” представляющая разложение числа на простые\n",
    "множители (если pi == 1, то выводить только ni).\n",
    "Например, для числа 86240 функция должна вернуть “(2**5)(5)(7**2)(11)”. Написать тесты для кода"
   ]
  },
  {
   "cell_type": "code",
   "execution_count": 48,
   "metadata": {
    "id": "pFebmcZk94Jw"
   },
   "outputs": [
    {
     "name": "stdout",
     "output_type": "stream",
     "text": [
      "(2)(523)\n"
     ]
    }
   ],
   "source": [
    "from collections import defaultdict\n",
    "\n",
    "def super_magic(num: int) -> str:\n",
    "    if num in (0, 1):\n",
    "        return f'({num})'\n",
    "    \n",
    "    dividers = defaultdict(int)\n",
    "    divider = 2\n",
    "    while num > 1:\n",
    "        if num % divider == 0:\n",
    "            dividers[divider] += 1\n",
    "            num //= divider\n",
    "        else:\n",
    "            divider += 1\n",
    "            \n",
    "    result = ''\n",
    "    for i in sorted(dividers):\n",
    "        if dividers[i] > 1:\n",
    "            result += f'({i}**{dividers[i]})' \n",
    "        else:\n",
    "            result += f'({i})'\n",
    "    return result\n",
    "    \n",
    "assert super_magic(86240) == '(2**5)(5)(7**2)(11)'\n",
    "assert super_magic(1046) == '(2)(523)'\n",
    "assert super_magic(1) == '(1)'\n",
    "assert super_magic(0) == '(0)'"
   ]
  },
  {
   "cell_type": "markdown",
   "metadata": {
    "id": "ps2s0BudX7A2"
   },
   "source": [
    "# Задача 7\n",
    "Написать функцию, принимающая целое число n, задающее количество кубиков. Функция\n",
    "должна определить, можно ли из данного кол-ва кубиков построить пирамиду, то есть\n",
    "можно ли представить число n как 1^2+2^2+3^2+…+k^2. Если можно, то функция должна\n",
    "вернуть k, иначе строку “It is impossible”. Написать тесты для кода"
   ]
  },
  {
   "cell_type": "code",
   "execution_count": 122,
   "metadata": {
    "id": "3YPjEXxhX_YT"
   },
   "outputs": [],
   "source": [
    "def pyramid(number):\n",
    "    k = 0\n",
    "    while number > 0:\n",
    "        k += 1\n",
    "        number -= k**2\n",
    "    if number == 0:\n",
    "        return k\n",
    "    return 'It is impossible'\n",
    "        \n",
    "\n",
    "assert pyramid(5) == 2\n",
    "assert pyramid(10) == 'It is impossible'\n",
    "assert pyramid(14) == 3\n",
    "assert pyramid(30) == 4"
   ]
  },
  {
   "cell_type": "markdown",
   "metadata": {
    "id": "KeKgmIdAQMEJ"
   },
   "source": [
    "# Задача 8\n",
    "Функция принимает на вход положительное число и определяет является ли оно сбалансированным, т.е. сумма цифр до средних равна сумме цифр после. Средними в случае нечетного числа цифр считать одну цифру, в случае четного - две средних. Написать тесты для кода"
   ]
  },
  {
   "cell_type": "code",
   "execution_count": 117,
   "metadata": {
    "id": "gMAAqtqlQrZt"
   },
   "outputs": [],
   "source": [
    "from math import ceil\n",
    "\n",
    "def func(num: int) -> bool:\n",
    "    str_num = str(num)\n",
    "    ind = ceil(len(str_num) / 2)\n",
    "    l = sum(map(int, str_num[:ind - 1]))\n",
    "    r = sum(map(int, str_num[-ind + 1:]))\n",
    "    return l == r\n",
    "        \n",
    "\n",
    "assert func(0) == True, 'Тест с 0'\n",
    "assert func(349043) == True, 'Чётное число цифр на True'\n",
    "assert func(349042) == False, 'Чётное число цифр на False'\n",
    "assert func(141) == True, 'Нечётное число цифр на True'\n",
    "assert func(567) == False, 'Нечётное число цифр на False'"
   ]
  }
 ],
 "metadata": {
  "colab": {
   "provenance": []
  },
  "kernelspec": {
   "display_name": "Python 3 (ipykernel)",
   "language": "python",
   "name": "python3"
  },
  "language_info": {
   "codemirror_mode": {
    "name": "ipython",
    "version": 3
   },
   "file_extension": ".py",
   "mimetype": "text/x-python",
   "name": "python",
   "nbconvert_exporter": "python",
   "pygments_lexer": "ipython3",
   "version": "3.9.7"
  }
 },
 "nbformat": 4,
 "nbformat_minor": 1
}
